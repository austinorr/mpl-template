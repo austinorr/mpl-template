{
 "cells": [
  {
   "cell_type": "code",
   "execution_count": 2,
   "metadata": {
    "collapsed": false
   },
   "outputs": [],
   "source": [
    "# Created by Austin Orr 4/26/2016\n",
    "from __future__ import division\n",
    "%matplotlib inline\n",
    "# __all__ = [\"insert_image\",\"Template\"]\n",
    "\n",
    "\n",
    "import os, io, requests\n",
    "import copy\n",
    "import warnings\n",
    "\n",
    "from PIL import Image\n",
    "import numpy as np\n",
    "import matplotlib as mpl\n",
    "import matplotlib.pyplot as plt\n",
    "import matplotlib.gridspec as gridspec\n",
    "\n",
    "\n",
    "from template import Template, insert_image"
   ]
  },
  {
   "cell_type": "code",
   "execution_count": 5,
   "metadata": {
    "collapsed": true
   },
   "outputs": [],
   "source": [
    "user = [{'name':'Title', #use as ax label\n",
    "         'text':[{\n",
    "                \"ha\":\"center\",\n",
    "                \"s\":\"Geosyntec Template Example Plots\",\n",
    "                \"va\":\"baseline\",\n",
    "                \"weight\":\"bold\",\n",
    "                \"x\":0.5,\n",
    "                \"y\":0.52,\n",
    "                },\n",
    "            {\n",
    "                \"color\":(.3,0.3,0.3),\n",
    "                \"ha\":\"center\",\n",
    "                \"s\":\"Blank Example\",\n",
    "                \"va\":\"top\",\n",
    "                \"weight\":\"light\",\n",
    "                \"x\":0.5,\n",
    "                \"y\":0.48,\n",
    "                },\n",
    "            ],\n",
    "\n",
    "         },\n",
    "        {'name':'Logo',\n",
    "         'image':{'path':'img//geosyntec-logo.png',#'http://matplotlib.org/_images/polar_bar_demo.png',\n",
    "                  'scale':0.8,\n",
    "                  },\n",
    "         },\n",
    "        {},\n",
    "        {},\n",
    "        {'name':'fignum',\n",
    "         'text':{\n",
    "#             \"fignum\":\n",
    "#             {\n",
    "                \"ha\":\"center\",\n",
    "                \"s\":\"Figure\\n\\n{:02d}\",\n",
    "                \"va\":\"center\",\n",
    "                \"weight\":\"bold\",\n",
    "                \"x\":0.5,\n",
    "                \"y\":0.5,\n",
    "#                 },\n",
    "            },\n",
    "\n",
    "         },\n",
    "\n",
    "        ]\n",
    "\n",
    "def populate(fig, tbk):\n",
    "    for ax in fig.get_axes():\n",
    "        label = ax.get_label()\n",
    "        for i, dct in enumerate(tbk):\n",
    "            if 'name' in dct:\n",
    "                if dct['name'] ==  label:\n",
    "                    if 'text' in dct:\n",
    "                        if isinstance(dct['text'],list): \n",
    "                            for elem in dct['text']:\n",
    "                                kwargs = copy.deepcopy(elem)\n",
    "                                ax.text(**kwargs)\n",
    "                        elif isinstance(dct['text'],dict):\n",
    "                            kwargs = copy.deepcopy(dct['text'])\n",
    "                            ax.text(**kwargs)\n",
    "                        else:\n",
    "                            raise ValueError('`text` key must map to to dict or list of dicts')\n",
    "                    if 'image' in dct:\n",
    "                        kwargs = dct['image']\n",
    "                        img_ax = insert_image(ax, dct['image']['path'], scale = .8, dpi = ax.get_figure().get_dpi())\n",
    "                        img_ax.set_label('img_b_{}'.format(i))\n",
    "                        img_ax.axis('off')\n",
    "\n",
    "\n",
    "\n",
    "def add_tbk_text2(ax, user): # add logo ax label name, specify path, add function to source?\n",
    "    \"\"\"\n",
    "    This is a custom titleblock handler, will need to be updated for \n",
    "    any new projects to catch special cases.\n",
    "    \n",
    "    ax: mpl.axes() object\n",
    "    tbk_elem: dictionary to populate titleblock contents. Must use \n",
    "        mpl.pyplot.text() object keywords\n",
    "    \n",
    "    \"\"\"\n",
    "#     logo = \"http://matplotlib.org/_images/polar_bar_demo.png\" # \"img//geosyntec-logo.png\" #test @ url maybe need urllib\n",
    "    \n",
    "    label = ax.get_label() # the GeosyntecTemplate class creates labels\n",
    "                           # b_1 through b_5 for populating the titleblock\n",
    "\n",
    "    if label=='b_2':\n",
    "        logo_ax = template.insert_image(ax, logo, scale = .8, dpi = ax.get_figure().get_dpi())\n",
    "        logo_ax.set_label('logo')\n",
    "        logo_ax.axis('off')\n",
    "    \n",
    "    elif label in tbk_elem.keys():\n",
    "        for i in tbk_elem[label]:\n",
    "            if i != 'span': # span is an advanced function that we'll talk about later. It controls how many columns and rows\n",
    "                kwargs = copy.deepcopy(tbk_elem[label][i])\n",
    "                ax.text(**kwargs)"
   ]
  },
  {
   "cell_type": "code",
   "execution_count": 6,
   "metadata": {
    "collapsed": false
   },
   "outputs": [
    {
     "data": {
      "image/png": "[encoded data removed]",
      "text/plain": [
       "<matplotlib.figure.Figure at 0x39b4ab0>"
      ]
     },
     "metadata": {},
     "output_type": "display_data"
    }
   ],
   "source": [
    "t = Template(figsize=(8.5, 11), \n",
    "             scriptname=\"TemplateUtils_doc.ipynb\",\n",
    "             titleblock_content = user,\n",
    "            )\n",
    "\n",
    "tbk = copy.deepcopy(user)\n",
    "tbk[0]['text'][0]['s'] = \"Plot Example\"\n",
    "tbk[4]['text']['s'] = tbk[4]['text']['s'].format(1)\n",
    "t.titleblock_content = tbk\n",
    "\n",
    "fig = t.setup_figure()\n",
    "\n",
    "page = t.add_page()"
   ]
  },
  {
   "cell_type": "code",
   "execution_count": null,
   "metadata": {
    "collapsed": false
   },
   "outputs": [],
   "source": [
    "t = Template(figsize=(8.5, 11), \n",
    "             scriptname=\"TemplateUtils_doc.ipynb\",\n",
    "             margins = (0,0,0,0),\n",
    "#              titleblock_content = user,\n",
    "             titleblock_cols = (1,1,1),\n",
    "             titleblock_rows = (1,1,1),\n",
    "            )\n",
    "\n",
    "fig = t.setup_figure()\n",
    "page = t.add_page()\n",
    "\n",
    "# populate(fig, user)"
   ]
  },
  {
   "cell_type": "code",
   "execution_count": null,
   "metadata": {
    "collapsed": false
   },
   "outputs": [],
   "source": [
    "for ax in fig.get_axes():\n",
    "    print(ax.get_label())"
   ]
  },
  {
   "cell_type": "code",
   "execution_count": null,
   "metadata": {
    "collapsed": false
   },
   "outputs": [],
   "source": [
    "for k,v in list(user[0].items()):\n",
    "    print(k,v)"
   ]
  },
  {
   "cell_type": "code",
   "execution_count": null,
   "metadata": {
    "collapsed": false
   },
   "outputs": [],
   "source": [
    "for i,j in enumerate(user[0]['text']):\n",
    "    print(i,j)"
   ]
  },
  {
   "cell_type": "code",
   "execution_count": 10,
   "metadata": {
    "collapsed": true
   },
   "outputs": [],
   "source": [
    "## 3 box titleblock\n",
    "blocks = [\n",
    "    {\n",
    "    'span':[0,32,0,16],\n",
    "     'name':'Title',\n",
    "     'text':{'title':{'s':'test title',\n",
    "                      'x':.5,\n",
    "                      'y':.5,\n",
    "                      'ha':'center',\n",
    "                      'va':'center',\n",
    "                     },\n",
    "            },\n",
    "    },\n",
    "    {'name':'logo',\n",
    "     'image':{'path':'http://matplotlib.org/_images/polar_bar_demo.png',\n",
    "              'scale': 8,\n",
    "              },\n",
    "     'span':[0,32,16,32],\n",
    "    },\n",
    "    {'name':'num',\n",
    "     'text':{'num':{'s':'5',\n",
    "                    'x':.5,\n",
    "                    'y':.5,\n",
    "                    'ha':'center',\n",
    "                    'va':'center',\n",
    "                   },\n",
    "             },\n",
    "     'span':[0,32,32,48],\n",
    "    },\n",
    "#     {},\n",
    "#     {},\n",
    "]\n",
    "\n",
    "\n",
    "## 5 box titleblock"
   ]
  },
  {
   "cell_type": "code",
   "execution_count": 11,
   "metadata": {
    "collapsed": false
   },
   "outputs": [
    {
     "data": {
      "image/png": "[encoded data removed]",
      "text/plain": [
       "<matplotlib.figure.Figure at 0x649cb90>"
      ]
     },
     "metadata": {},
     "output_type": "display_data"
    }
   ],
   "source": [
    "doc = Template(figsize = (5,4), scriptname='test.py', \n",
    "               titleblock_content = blocks, \n",
    "               titleblock_cols = (16,16,16),\n",
    "               titleblock_rows = (20,4,8),\n",
    "               margins = (0,0,0,0)\n",
    "#                draft = False,\n",
    "              )\n",
    "axes = doc.add_titleblock()\n",
    "frame = doc.add_frame()\n",
    "page = doc.add_page()\n",
    "# doc.watermark='test'\n",
    "doc.watermark.remove()\n",
    "\n",
    "# wmk.set_fontname('times new roman')\n",
    "for ax in fig.get_axes():\n",
    "    ax.axis('on')\n",
    "#     print(ax.get_label())"
   ]
  },
  {
   "cell_type": "code",
   "execution_count": 12,
   "metadata": {
    "collapsed": false
   },
   "outputs": [
    {
     "data": {
      "text/plain": [
       "False"
      ]
     },
     "execution_count": 12,
     "metadata": {},
     "output_type": "execute_result"
    }
   ],
   "source": [
    "margins = (1,1.1,1,1)\n",
    "all(isinstance(x, int) for x in margins)"
   ]
  },
  {
   "cell_type": "code",
   "execution_count": 13,
   "metadata": {
    "collapsed": false
   },
   "outputs": [
    {
     "name": "stdout",
     "output_type": "stream",
     "text": [
      "frame\n",
      "Title\n",
      "Logo\n",
      "b_2\n",
      "b_3\n",
      "fignum\n",
      "img_b_1\n",
      "page\n"
     ]
    },
    {
     "data": {
      "image/png": "[encoded data removed]",
      "text/plain": [
       "<matplotlib.figure.Figure at 0x6494c70>"
      ]
     },
     "metadata": {},
     "output_type": "display_data"
    }
   ],
   "source": [
    "doc = Template(figsize = (5,4), scriptname='test.py', \n",
    "               titleblock_content = blocks, \n",
    "               titleblock_cols = (16,16,16),\n",
    "               titleblock_rows = (20,4,8),\n",
    "               margins = (0,0,0,0)\n",
    "#                draft = False,\n",
    "              )\n",
    "\n",
    "frame = doc.add_frame()\n",
    "page = doc.add_page()\n",
    "# doc.watermark='test'\n",
    "doc.watermark.remove()\n",
    "\n",
    "# wmk.set_fontname('times new roman')\n",
    "for ax in fig.get_axes():\n",
    "    ax.axis('on')\n",
    "    print(ax.get_label())\n",
    "\n",
    "doc.gstitleblock = doc.gsfig[-(doc.bottom+doc.t_h) or None:-doc.bottom or None,\n",
    "                             -(doc.right) or None:(doc.right+doc.t_w) or None\n",
    "                            ]\n",
    "\n",
    "axes = doc.add_titleblock()\n"
   ]
  },
  {
   "cell_type": "code",
   "execution_count": null,
   "metadata": {
    "collapsed": true
   },
   "outputs": [],
   "source": [
    "def _validate_image_path(path):\n",
    "    valid_types = ['.png','.jpg', '.jpeg']\n",
    "    if ('http' in path):\n",
    "        if any(ftype in path for ftype in valid_types):\n",
    "            r = requests.get(path)\n",
    "            path = io.BytesIO(r.content)\n",
    "        else:\n",
    "            raise ValueError(\"Supported web image types include: {}\".format(valid_types))\n",
    "    return path"
   ]
  },
  {
   "cell_type": "code",
   "execution_count": null,
   "metadata": {
    "collapsed": false
   },
   "outputs": [],
   "source": [
    "path = 'http://matplotlib.org/_images/polar_bar_demo.mov'\n",
    "_validate_image_path(path)"
   ]
  },
  {
   "cell_type": "code",
   "execution_count": null,
   "metadata": {
    "collapsed": true
   },
   "outputs": [],
   "source": []
  }
 ],
 "metadata": {
  "kernelspec": {
   "display_name": "Python 3",
   "language": "python",
   "name": "python3"
  },
  "language_info": {
   "codemirror_mode": {
    "name": "ipython",
    "version": 3
   },
   "file_extension": ".py",
   "mimetype": "text/x-python",
   "name": "python",
   "nbconvert_exporter": "python",
   "pygments_lexer": "ipython3",
   "version": "3.5.1"
  }
 },
 "nbformat": 4,
 "nbformat_minor": 0
}
